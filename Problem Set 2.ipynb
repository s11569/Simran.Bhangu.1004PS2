{
 "cells": [
  {
   "cell_type": "markdown",
   "metadata": {},
   "source": [
    "### Question 1"
   ]
  },
  {
   "cell_type": "markdown",
   "metadata": {},
   "source": [
    "#### Consider the following Python module: After importing the module into the interpreter, you execute: >>> b() b() b() a What value is displayed when the last expression (a) is evaluated? Explain your answer by indicating what happens in every executed statement."
   ]
  },
  {
   "cell_type": "code",
   "execution_count": 12,
   "metadata": {},
   "outputs": [],
   "source": [
    "a = 0\n",
    "def b():\n",
    "    global a\n",
    "    a = c(a)\n",
    "def c(a):\n",
    "    return a + 2"
   ]
  },
  {
   "cell_type": "code",
   "execution_count": 13,
   "metadata": {},
   "outputs": [],
   "source": [
    "b()"
   ]
  },
  {
   "cell_type": "markdown",
   "metadata": {},
   "source": [
    "##### a = 2, After executing the function b() first time, the value of 'a' that was initiated as 0, is imcremented by 2, as we have declared 'a' as global variable, function c(a) is called inside b(), since the value of global 'a' is 0, c(a) returns the value 0+2 which is made equal to the variable 'a'.Hence the value of a is 2."
   ]
  },
  {
   "cell_type": "code",
   "execution_count": 14,
   "metadata": {},
   "outputs": [],
   "source": [
    "b()"
   ]
  },
  {
   "cell_type": "markdown",
   "metadata": {},
   "source": [
    "##### a = 4 this time since the value of 'a' was 2 after the execution, now by following the same logic as above, the value of 'a' is again incremented by 2 and now a is equal to 4"
   ]
  },
  {
   "cell_type": "code",
   "execution_count": 15,
   "metadata": {},
   "outputs": [],
   "source": [
    "b()"
   ]
  },
  {
   "cell_type": "code",
   "execution_count": 16,
   "metadata": {},
   "outputs": [
    {
     "data": {
      "text/plain": [
       "6"
      ]
     },
     "execution_count": 16,
     "metadata": {},
     "output_type": "execute_result"
    }
   ],
   "source": [
    "a"
   ]
  },
  {
   "cell_type": "markdown",
   "metadata": {},
   "source": [
    "##### a = 6, after the last execution, again value of 2 is added and now the final value of a is 6."
   ]
  },
  {
   "cell_type": "markdown",
   "metadata": {},
   "source": [
    "### Question 2"
   ]
  },
  {
   "cell_type": "markdown",
   "metadata": {},
   "source": [
    "##### Function fileLength(), given to you, takes the name of a file as input and returns the length of the file. If the file cannot be found by the interpreter or if it cannot be read as a text file, an exception will be raised. Modify function fileLength() so that a friendly message is printed instead:"
   ]
  },
  {
   "cell_type": "code",
   "execution_count": 6,
   "metadata": {},
   "outputs": [],
   "source": [
    "def fileLength(fileName):\n",
    "    try:\n",
    "        file = open(fileName)\n",
    "        contents = file.read()\n",
    "        file.close()\n",
    "        print(len(contents))\n",
    "    except FileNotFoundError:\n",
    "        print('File \"' + fileName + '\" not found.')"
   ]
  },
  {
   "cell_type": "code",
   "execution_count": 7,
   "metadata": {},
   "outputs": [
    {
     "data": {
      "text/plain": [
       "'C:\\\\Users\\\\hp'"
      ]
     },
     "execution_count": 7,
     "metadata": {},
     "output_type": "execute_result"
    }
   ],
   "source": [
    "pwd #checking the directory"
   ]
  },
  {
   "cell_type": "code",
   "execution_count": 9,
   "metadata": {},
   "outputs": [
    {
     "name": "stdout",
     "output_type": "stream",
     "text": [
      "C:\\Users\\hp\\Downloads\n"
     ]
    }
   ],
   "source": [
    "cd \\Users\\hp\\Downloads #changing the directory"
   ]
  },
  {
   "cell_type": "code",
   "execution_count": 10,
   "metadata": {},
   "outputs": [
    {
     "name": "stdout",
     "output_type": "stream",
     "text": [
      "464\n"
     ]
    }
   ],
   "source": [
    "fileLength('file.py')"
   ]
  },
  {
   "cell_type": "code",
   "execution_count": 11,
   "metadata": {},
   "outputs": [
    {
     "name": "stdout",
     "output_type": "stream",
     "text": [
      "File \"program.py\" not found.\n"
     ]
    }
   ],
   "source": [
    "fileLength('program.py')"
   ]
  },
  {
   "cell_type": "markdown",
   "metadata": {},
   "source": [
    "### Question 3"
   ]
  },
  {
   "cell_type": "markdown",
   "metadata": {},
   "source": [
    "##### Write a class named Marsupial that can be used as shown below: >>> m = Marsupial() >>> m.put_in_pouch('doll') >>> m.put_in_pouch('firetruck') >>> m.put_in_pouch('kitten') >>> m.pouch_contents() ['doll', 'firetruck', 'kitten'] Now write a class named Kangaroo as a subclass of Marsupial that inherits all the attributes of Marsupial and also: a. extends the Marsupial init constructor to take, as input, the coordinates x and y of the Kangaroo object, b. supports method jump that takes number values dx and dy as input and moves the kangaroo by dx units along the x-axis and by dy units along the y-axis, and c. overloads the str operator so it behaves as shown below."
   ]
  },
  {
   "cell_type": "code",
   "execution_count": 18,
   "metadata": {},
   "outputs": [],
   "source": [
    "class Marsupial: \n",
    "    def __init__(self): \n",
    "        self.data = [] \n",
    "\n",
    "    def put_in_pouch(self,thing): \n",
    "        self.data.append(thing) \n",
    "\n",
    "    def pouch_contents(self):\n",
    "        return self.data\n",
    "\n",
    "class Kangaroo(Marsupial): \n",
    "    def __init__(self,x,y):\n",
    "        self.x = x\n",
    "        self.y = y\n",
    "        Marsupial.__init__(self)\n",
    "\n",
    "    def __str__(self):\n",
    "        return \"I am a Kangaroo located at coordinates ({},{})\".format(self.x, self.y)\n",
    "\n",
    "    def jump(self, dx,dy):\n",
    "        self.x += dx\n",
    "        self.y += dy"
   ]
  },
  {
   "cell_type": "code",
   "execution_count": 25,
   "metadata": {},
   "outputs": [
    {
     "data": {
      "text/plain": [
       "['doll', 'firetruck', 'kitten']"
      ]
     },
     "execution_count": 25,
     "metadata": {},
     "output_type": "execute_result"
    }
   ],
   "source": [
    "m = Marsupial()\n",
    "m.put_in_pouch('doll')\n",
    "m.put_in_pouch('firetruck')\n",
    "m.put_in_pouch('kitten')\n",
    "m.pouch_contents()"
   ]
  },
  {
   "cell_type": "code",
   "execution_count": 26,
   "metadata": {},
   "outputs": [
    {
     "name": "stdout",
     "output_type": "stream",
     "text": [
      "I am a Kangaroo located at coordinates (0,0)\n"
     ]
    }
   ],
   "source": [
    "k = Kangaroo(0,0)\n",
    "print(k)"
   ]
  },
  {
   "cell_type": "code",
   "execution_count": 27,
   "metadata": {},
   "outputs": [
    {
     "data": {
      "text/plain": [
       "['doll', 'firetruck', 'kitten']"
      ]
     },
     "execution_count": 27,
     "metadata": {},
     "output_type": "execute_result"
    }
   ],
   "source": [
    "k.put_in_pouch('doll')\n",
    "k.put_in_pouch('firetruck')\n",
    "k.put_in_pouch('kitten')\n",
    "k.pouch_contents()"
   ]
  },
  {
   "cell_type": "code",
   "execution_count": 28,
   "metadata": {},
   "outputs": [
    {
     "name": "stdout",
     "output_type": "stream",
     "text": [
      "I am a Kangaroo located at coordinates (3,0)\n"
     ]
    }
   ],
   "source": [
    "k.jump(1,0)\n",
    "k.jump(1,0)\n",
    "k.jump(1,0)\n",
    "print(k)"
   ]
  },
  {
   "cell_type": "markdown",
   "metadata": {},
   "source": [
    "### Question 4\n",
    "\n",
    "##### Implement a new GUI class App that combines user-defined tkinter widget classes Calculator and Mortgage."
   ]
  },
  {
   "cell_type": "code",
   "execution_count": 11,
   "metadata": {},
   "outputs": [],
   "source": [
    "from tkinter import * \n",
    "import math\n",
    "\n",
    "\n",
    "\n",
    "root = Tk()\n",
    "cal = Frame(root)\n",
    "cal.grid()\n",
    "\n",
    "#display for the calculator\n",
    "root.title(\"Calculator\")\n",
    "text_box = Entry(cal, justify=RIGHT,width=28,font=\"Times 15 bold\")\n",
    "text_box.grid(row = 0, column = 0,columnspan = 10,padx=0, pady = 30)\n",
    "text_box.insert(0, \"0\")\n",
    "\n",
    "#Loan amont button and display\n",
    "text_box = Entry(cal, justify=RIGHT,width=23,font=\"Times 15 bold\")\n",
    "text_box.grid(row = 1, column = 6,columnspan = 10,padx=0, pady = 0)\n",
    "loanamount = Button(cal,height =1,width=16,padx=0, pady = 0, text = \"Loan Amount:\",bg=\"white\")\n",
    "loanamount.grid(row = 1, column = 7, padx=0, pady = 0)\n",
    "\n",
    "#Interest rate button and display\n",
    "text_box = Entry(cal, justify=RIGHT,width=23,font=\"Times 15 bold\")\n",
    "text_box.grid(row = 2, column = 6,columnspan = 10,padx=0, pady = 0)\n",
    "loanamount = Button(cal,height =1,width=16,padx=0, pady = 0, text = \"Interest Rate:\",bg=\"white\")\n",
    "loanamount.grid(row = 2, column = 7, padx=0, pady = 0)\n",
    "\n",
    "#Loan Terms button and display\n",
    "text_box = Entry(cal, justify=RIGHT,width=23,font=\"Times 15 bold\")\n",
    "text_box.grid(row = 3, column = 6,columnspan = 10,padx=0, pady = 0)\n",
    "loanamount = Button(cal,height =1,width=16,padx=0, pady = 0, text = \"Loan Terms:\",bg=\"white\")\n",
    "loanamount.grid(row = 3, column = 7, padx=0, pady = 0)\n",
    "\n",
    "#Compute Mortgage button and display\n",
    "text_box = Entry(cal, justify=RIGHT,width=23,font=\"Times 15 bold\")\n",
    "text_box.grid(row = 4, column = 6,columnspan = 10,padx=0, pady = 0)\n",
    "loanamount = Button(cal,height =1,width=16,padx=0, pady = 0, text = \"Compute Mortgage:\",bg=\"white\")\n",
    "loanamount.grid(row = 4, column = 7, padx=0, pady = 0)\n",
    "\n",
    "        \n",
    "#other buttons for the calculator\n",
    "bttn_0 = Button(cal,height =2,width=4,padx=10, pady = 10, text = \"0\",bg=\"white\")\n",
    "\n",
    "bttn_0.grid(row = 5, column = 1,  padx=1, pady = 1)\n",
    "\n",
    "div = Button(cal,height =2,width=4,padx=10, pady = 10, text = \"/\",bg=\"white\")\n",
    "\n",
    "div.grid(row = 5, column = 3, padx=1, pady = 1)\n",
    "\n",
    "mult = Button(cal,height =2,width=4,padx=10, pady = 10, text = \"*\",bg=\"white\")\n",
    "\n",
    "mult.grid(row = 2, column = 3,  padx=1, pady = 1)\n",
    "\n",
    "minus = Button(cal,height =2,width=4,padx=10, pady = 10, text = \"-\",bg=\"white\")\n",
    "\n",
    "minus.grid(row = 3, column = 3, padx=1, pady = 1)\n",
    "\n",
    "add = Button(cal,height =2,width=4,padx=10, pady = 10, text = \"+\",bg=\"white\")\n",
    "\n",
    "add.grid(row = 4, column = 3,  padx=1, pady = 1)\n",
    "\n",
    "point = Button(cal,height =2,width=4,padx=10, pady = 10, text = \".\",bg=\"white\")\n",
    "\n",
    "point.grid(row = 5, column = 2, padx=1, pady = 1)\n",
    "\n",
    "neg= Button(cal,height =2,width=4,padx=10, pady = 10, text = \"+/-\",bg=\"white\")\n",
    "neg.grid(row = 5, column = 0,  padx=1, pady = 1)\n",
    "\n",
    "clear = Button(cal,height =2,width=4,padx=10, pady = 10, text = \"C\",bg=\"white\")\n",
    "\n",
    "clear.grid(row = 5, column = 4,  padx=1, pady = 1)\n",
    "\n",
    "all_clear = Button(cal,height =2,width=4,padx=10, pady = 10, text = \"AC\",bg=\"white\")\n",
    "\n",
    "all_clear.grid(row = 1, column = 4, padx=1, pady = 1)\n",
    "\n",
    "equals = Button(cal,height =2,width=4,padx=10, pady = 10, text = \"=\",bg=\"white\")\n",
    "\n",
    "equals.grid(row = 2, column = 4,padx=1, pady = 1)\n",
    "\n",
    "mplus = Button(cal,height =2,width=4,padx=10, pady = 10, text = \"M+\",bg=\"white\")\n",
    "\n",
    "mplus.grid(row = 1, column = 2,padx=1, pady = 1)\n",
    "\n",
    "mrecall = Button(cal,height =2,width=4,padx=10, pady = 10, text = \"MR\",bg=\"white\")\n",
    "\n",
    "mrecall.grid(row = 1, column = 0,padx=1, pady = 1)\n",
    "\n",
    "mclear = Button(cal,height =2,width=4,padx=10, pady = 10, text = \"MC\",bg=\"white\")\n",
    "\n",
    "mclear.grid(row = 1, column = 1,padx=1, pady = 1)\n",
    "\n",
    "mminus = Button(cal,height =2,width=4,padx=10, pady = 10, text = \"M-\",bg=\"white\")\n",
    "\n",
    "mminus.grid(row = 1, column = 3,padx=1, pady = 1)\n",
    "\n",
    "sqroot = Button(cal,height =2,width=4,padx=10, pady = 10, text = \"√\",bg=\"white\")\n",
    "\n",
    "sqroot.grid(row = 3, column = 4, padx=1, pady = 1)\n",
    "\n",
    "power = Button(cal,height =2,width=4,padx=10, pady = 10, text = \"x^2\",bg=\"white\")\n",
    "\n",
    "power.grid(row = 4, column = 4, padx=1, pady = 1)\n",
    "\n",
    "num = Button(cal,height =2,width=4,padx=10, pady = 10, text = \"7\",bg=\"white\")\n",
    "\n",
    "num.grid(row = 2, column = 0,  padx=1, pady = 1)\n",
    "\n",
    "num = Button(cal,height =2,width=4,padx=10, pady = 10, text = \"8\",bg=\"white\")\n",
    "\n",
    "num.grid(row = 2, column = 1,  padx=1, pady = 1)\n",
    "\n",
    "num = Button(cal,height =2,width=4,padx=10, pady = 10, text = \"9\",bg=\"white\")\n",
    "\n",
    "num.grid(row = 2, column = 2,  padx=1, pady = 1)\n",
    "\n",
    "num = Button(cal,height =2,width=4,padx=10, pady = 10, text = \"4\",bg=\"white\")\n",
    "\n",
    "num.grid(row = 3, column = 0,  padx=1, pady = 1)\n",
    "\n",
    "num = Button(cal,height =2,width=4,padx=10, pady = 10, text = \"5\",bg=\"white\")\n",
    "\n",
    "num.grid(row = 3, column = 1,  padx=1, pady = 1)\n",
    "\n",
    "num = Button(cal,height =2,width=4,padx=10, pady = 10, text = \"6\",bg=\"white\")\n",
    "\n",
    "num.grid(row = 3, column = 2,  padx=1, pady = 1)\n",
    "\n",
    "num = Button(cal,height =2,width=4,padx=10, pady = 10, text = \"1\",bg=\"white\")\n",
    "\n",
    "num.grid(row = 4, column = 0,  padx=1, pady = 1)\n",
    "\n",
    "num = Button(cal,height =2,width=4,padx=10, pady = 10, text = \"2\",bg=\"white\")\n",
    "\n",
    "num.grid(row = 4, column = 1,  padx=1, pady = 1)\n",
    "\n",
    "num = Button(cal,height =2,width=4,padx=10, pady = 10, text = \"3\",bg=\"white\")\n",
    "\n",
    "num.grid(row = 4, column = 2,  padx=1, pady = 1)\n",
    "\n",
    "root.mainloop()"
   ]
  },
  {
   "cell_type": "markdown",
   "metadata": {},
   "source": [
    "### Question 5"
   ]
  },
  {
   "cell_type": "markdown",
   "metadata": {},
   "source": [
    "##### Write function collatz() that takes a positive integer x as input and prints the Collatz sequence starting at x. A Collatz sequence is obtained by repeatedly applying this rule to the previous number x in the sequence:x = 𝑥/2 𝑖𝑓 𝑥 𝑖𝑠 𝑒𝑣𝑒𝑛/ 3𝑥+1 𝑖𝑓 𝑥 𝑖𝑠 𝑜𝑑𝑑. Your function should stop when the sequence gets to number 1. Your implementation must be recursive, without any loops.\n",
    "\n"
   ]
  },
  {
   "cell_type": "code",
   "execution_count": 41,
   "metadata": {},
   "outputs": [],
   "source": [
    "def collatz(x):\n",
    "    if(x == 1): \n",
    "        return (x) \n",
    "    elif (x % 2 == 0):\n",
    "        print(int(x)) \n",
    "        collatz(x/2)      #if value is even\n",
    "    else:\n",
    "        print(int(x))  \n",
    "        collatz(3*x + 1 ) #if value is odd\n"
   ]
  },
  {
   "cell_type": "code",
   "execution_count": 42,
   "metadata": {},
   "outputs": [
    {
     "data": {
      "text/plain": [
       "1"
      ]
     },
     "execution_count": 42,
     "metadata": {},
     "output_type": "execute_result"
    }
   ],
   "source": [
    "collatz(1)"
   ]
  },
  {
   "cell_type": "code",
   "execution_count": 43,
   "metadata": {},
   "outputs": [
    {
     "name": "stdout",
     "output_type": "stream",
     "text": [
      "10\n",
      "5\n",
      "16\n",
      "8\n",
      "4\n",
      "2\n"
     ]
    }
   ],
   "source": [
    "collatz(10)"
   ]
  },
  {
   "cell_type": "markdown",
   "metadata": {},
   "source": [
    "### Question 6"
   ]
  },
  {
   "cell_type": "markdown",
   "metadata": {},
   "source": [
    "##### Write a recursive method binary() that takes a non-negative integer n and prints the binary representation of integer n."
   ]
  },
  {
   "cell_type": "code",
   "execution_count": 19,
   "metadata": {},
   "outputs": [],
   "source": [
    "def binary(n):\n",
    "    \n",
    "    if n < 2:\n",
    "        n = n\n",
    "    else:\n",
    "        binary(n // 2)\n",
    "    print(n % 2, end=\"\")"
   ]
  },
  {
   "cell_type": "code",
   "execution_count": 20,
   "metadata": {},
   "outputs": [
    {
     "name": "stdout",
     "output_type": "stream",
     "text": [
      "0"
     ]
    }
   ],
   "source": [
    "binary(0)"
   ]
  },
  {
   "cell_type": "code",
   "execution_count": 21,
   "metadata": {},
   "outputs": [
    {
     "name": "stdout",
     "output_type": "stream",
     "text": [
      "1"
     ]
    }
   ],
   "source": [
    "binary(1)"
   ]
  },
  {
   "cell_type": "code",
   "execution_count": 22,
   "metadata": {},
   "outputs": [
    {
     "name": "stdout",
     "output_type": "stream",
     "text": [
      "11"
     ]
    }
   ],
   "source": [
    "binary(3)"
   ]
  },
  {
   "cell_type": "code",
   "execution_count": 23,
   "metadata": {},
   "outputs": [
    {
     "name": "stdout",
     "output_type": "stream",
     "text": [
      "1001"
     ]
    }
   ],
   "source": [
    "binary(9)"
   ]
  },
  {
   "cell_type": "markdown",
   "metadata": {},
   "source": [
    "### Question 7"
   ]
  },
  {
   "cell_type": "markdown",
   "metadata": {},
   "source": [
    "##### Implement a class named HeadingParser that can be used to parse an HTML document, and retrieve and print all the headings in the document. You should implement your class as a subclass of HTMLParser, defined in Standard Library module html.parser. When fed a string containing HTML code, your class should print the headings, one per line and in the order in which they appear in the document. Each heading should be indented as follows: an h1 heading should have indentation 0, and h2 heading should have indentation 1, etc. Test your implementation using w3c.html."
   ]
  },
  {
   "cell_type": "code",
   "execution_count": 78,
   "metadata": {},
   "outputs": [],
   "source": [
    "from html.parser import HTMLParser\n",
    "\n",
    "class HeadingParser(HTMLParser):\n",
    "    def __init__(self):\n",
    "        self.flag = False\n",
    "        self.indent = 0\n",
    "        self.stack = []\n",
    "        super().__init__()\n",
    "\n",
    "    def handle_starttag(self, tag, attrs):\n",
    "        if(tag[0] == 'h' and tag[1] <='6' and tag[1] > '0' and len(tag) == 2):\n",
    "            self.stack.append('')\n",
    "\n",
    "    def handle_endtag(self, tag):\n",
    "        if (tag[0] == 'h' and tag[1] <= '6' and tag[1] > '0' and len(tag) == 2):\n",
    "            indent = int(tag[1]) - 1\n",
    "            for i in range(0,indent):\n",
    "                print(\"\\t\",end='')\n",
    "            print(self.stack.pop())\n",
    "\n",
    "    def handle_data(self, data):\n",
    "        if(len(self.stack) != 0):\n",
    "            str = self.stack.pop()\n",
    "            str+=data\n",
    "            self.stack.append(str)"
   ]
  },
  {
   "cell_type": "code",
   "execution_count": 79,
   "metadata": {},
   "outputs": [
    {
     "data": {
      "text/plain": [
       "'C:\\\\Users\\\\hp\\\\Downloads'"
      ]
     },
     "execution_count": 79,
     "metadata": {},
     "output_type": "execute_result"
    }
   ],
   "source": [
    "pwd"
   ]
  },
  {
   "cell_type": "code",
   "execution_count": 80,
   "metadata": {},
   "outputs": [
    {
     "name": "stdout",
     "output_type": "stream",
     "text": [
      "C:\\Users\\hp\\Downloads\n"
     ]
    }
   ],
   "source": [
    "cd \\Users\\hp\\Downloads"
   ]
  },
  {
   "cell_type": "code",
   "execution_count": 81,
   "metadata": {},
   "outputs": [
    {
     "name": "stdout",
     "output_type": "stream",
     "text": [
      "W3C Mission\n",
      "\tPrinciples\n"
     ]
    }
   ],
   "source": [
    "infile = open('w3c.html')\n",
    "content = infile.read()\n",
    "infile.close()\n",
    "hp = headingparser()\n",
    "hp.feed(content)"
   ]
  },
  {
   "cell_type": "markdown",
   "metadata": {},
   "source": [
    "### Question 8\n",
    "##### Implement recursive function webdir() that takes as input: a URL (as a string) and non-negative integers depth and indent. Your function should visit every web page reachable from the starting URL web page in depth clicks or less, and print each web page's URL. As shown below, indentation, specified by indent, should be used to indicate the depth of a URL.\n"
   ]
  },
  {
   "cell_type": "code",
   "execution_count": 9,
   "metadata": {},
   "outputs": [],
   "source": [
    "from urllib.request import Request, urlopen\n",
    "from html.parser import HTMLParser\n",
    "\n",
    "class Collector(HTMLParser):\n",
    "    def __init__(self, url):\n",
    "        HTMLParser__init__(self)\n",
    "        self.url = url\n",
    "        self.links = []\n",
    "        \n",
    "    def handle_starttag(self, tag, attrs):\n",
    "        if tag == 'a':\n",
    "            for attr in attrs:\n",
    "                if attr[0] == 'href':\n",
    "                    absolute = urljoin(self.url, attr[1])\n",
    "                    if absolute[:4] == 'http':\n",
    "                        self.links.append(absolute)\n",
    "    \n",
    "    def getLinks(self):\n",
    "        return self.links\n",
    "    \n",
    "def analyze(url):\n",
    "    webpage = urlopen(req, timeout=10).read().decode()\n",
    "    collector = collector(url)\n",
    "    collector.feed(webpage)\n",
    "    urls = collector.getLinks()\n",
    "    return urls\n",
    "\n",
    "def webdir(url, depth, indent):\n",
    "    if (depth == 2):\n",
    "        return\n",
    "    try:\n",
    "        pages = analyze(url)\n",
    "    except:\n",
    "        return\n",
    "    for x in range(0,indent):\n",
    "        print('\\t',end='')\n",
    "    print(url)        "
   ]
  },
  {
   "cell_type": "code",
   "execution_count": 10,
   "metadata": {},
   "outputs": [],
   "source": [
    "webdir('http://reed.cs.depaul.edu/lperkovic/csc242/test1.html', 2, 0)"
   ]
  },
  {
   "cell_type": "markdown",
   "metadata": {},
   "source": [
    "### Question 9"
   ]
  },
  {
   "cell_type": "code",
   "execution_count": 1,
   "metadata": {},
   "outputs": [],
   "source": [
    "%load_ext sql"
   ]
  },
  {
   "cell_type": "code",
   "execution_count": 2,
   "metadata": {},
   "outputs": [],
   "source": [
    "%sql sqlite://"
   ]
  },
  {
   "cell_type": "code",
   "execution_count": 3,
   "metadata": {},
   "outputs": [
    {
     "name": "stdout",
     "output_type": "stream",
     "text": [
      " * sqlite://\n",
      "Done.\n",
      "1 rows affected.\n",
      "1 rows affected.\n",
      "1 rows affected.\n",
      "1 rows affected.\n",
      "1 rows affected.\n",
      "1 rows affected.\n",
      "1 rows affected.\n",
      "1 rows affected.\n",
      "1 rows affected.\n",
      "1 rows affected.\n",
      "1 rows affected.\n",
      "1 rows affected.\n"
     ]
    },
    {
     "data": {
      "text/plain": [
       "[]"
      ]
     },
     "execution_count": 3,
     "metadata": {},
     "output_type": "execute_result"
    }
   ],
   "source": [
    "%%sql\n",
    "CREATE Table DATA(City varchar(50),Country varchar(50),Season varchar(50),'Temperature_C','Rainfall_mm');\n",
    "INSERT INTO DATA VALUES('Mumbai','India','Winter','24.8','5.9');\n",
    "INSERT INTO DATA VALUES('Mumbai','India','Spring','28.4','16.2');\n",
    "INSERT INTO DATA VALUES('Mumbai','India','Summer','27.9','1549.4');\n",
    "INSERT INTO DATA VALUES('Mumbai','India','Fall','27.6','346.0');\n",
    "INSERT INTO DATA VALUES('London','United Kingdom','Winter','4.2','207.7');\n",
    "INSERT INTO DATA VALUES('London','United Kingdom','Spring','8.3','169.6');\n",
    "INSERT INTO DATA VALUES('London','United Kingdom','Summer','15.7','157.0');\n",
    "INSERT INTO DATA VALUES('London','United Kingdom','Fall','10.4','218.5');\n",
    "INSERT INTO DATA VALUES('Cairo','Egypt','Winter','13.6','16.5');\n",
    "INSERT INTO DATA VALUES('Cairo','Egypt','Spring','20.7','6.5');\n",
    "INSERT INTO DATA VALUES('Cairo','Egypt','Summer','27.7','0.1');\n",
    "INSERT INTO DATA VALUES('Cairo','Egypt','Fall','22.2','4.5');"
   ]
  },
  {
   "cell_type": "code",
   "execution_count": 4,
   "metadata": {},
   "outputs": [
    {
     "name": "stdout",
     "output_type": "stream",
     "text": [
      " * sqlite://\n",
      "Done.\n"
     ]
    },
    {
     "data": {
      "text/html": [
       "<table>\n",
       "    <tr>\n",
       "        <th>City</th>\n",
       "        <th>Country</th>\n",
       "        <th>Season</th>\n",
       "        <th>Temperature_C</th>\n",
       "        <th>Rainfall_mm</th>\n",
       "    </tr>\n",
       "    <tr>\n",
       "        <td>Mumbai</td>\n",
       "        <td>India</td>\n",
       "        <td>Winter</td>\n",
       "        <td>24.8</td>\n",
       "        <td>5.9</td>\n",
       "    </tr>\n",
       "    <tr>\n",
       "        <td>Mumbai</td>\n",
       "        <td>India</td>\n",
       "        <td>Spring</td>\n",
       "        <td>28.4</td>\n",
       "        <td>16.2</td>\n",
       "    </tr>\n",
       "    <tr>\n",
       "        <td>Mumbai</td>\n",
       "        <td>India</td>\n",
       "        <td>Summer</td>\n",
       "        <td>27.9</td>\n",
       "        <td>1549.4</td>\n",
       "    </tr>\n",
       "    <tr>\n",
       "        <td>Mumbai</td>\n",
       "        <td>India</td>\n",
       "        <td>Fall</td>\n",
       "        <td>27.6</td>\n",
       "        <td>346.0</td>\n",
       "    </tr>\n",
       "    <tr>\n",
       "        <td>London</td>\n",
       "        <td>United Kingdom</td>\n",
       "        <td>Winter</td>\n",
       "        <td>4.2</td>\n",
       "        <td>207.7</td>\n",
       "    </tr>\n",
       "    <tr>\n",
       "        <td>London</td>\n",
       "        <td>United Kingdom</td>\n",
       "        <td>Spring</td>\n",
       "        <td>8.3</td>\n",
       "        <td>169.6</td>\n",
       "    </tr>\n",
       "    <tr>\n",
       "        <td>London</td>\n",
       "        <td>United Kingdom</td>\n",
       "        <td>Summer</td>\n",
       "        <td>15.7</td>\n",
       "        <td>157.0</td>\n",
       "    </tr>\n",
       "    <tr>\n",
       "        <td>London</td>\n",
       "        <td>United Kingdom</td>\n",
       "        <td>Fall</td>\n",
       "        <td>10.4</td>\n",
       "        <td>218.5</td>\n",
       "    </tr>\n",
       "    <tr>\n",
       "        <td>Cairo</td>\n",
       "        <td>Egypt</td>\n",
       "        <td>Winter</td>\n",
       "        <td>13.6</td>\n",
       "        <td>16.5</td>\n",
       "    </tr>\n",
       "    <tr>\n",
       "        <td>Cairo</td>\n",
       "        <td>Egypt</td>\n",
       "        <td>Spring</td>\n",
       "        <td>20.7</td>\n",
       "        <td>6.5</td>\n",
       "    </tr>\n",
       "    <tr>\n",
       "        <td>Cairo</td>\n",
       "        <td>Egypt</td>\n",
       "        <td>Summer</td>\n",
       "        <td>27.7</td>\n",
       "        <td>0.1</td>\n",
       "    </tr>\n",
       "    <tr>\n",
       "        <td>Cairo</td>\n",
       "        <td>Egypt</td>\n",
       "        <td>Fall</td>\n",
       "        <td>22.2</td>\n",
       "        <td>4.5</td>\n",
       "    </tr>\n",
       "</table>"
      ],
      "text/plain": [
       "[('Mumbai', 'India', 'Winter', '24.8', '5.9'),\n",
       " ('Mumbai', 'India', 'Spring', '28.4', '16.2'),\n",
       " ('Mumbai', 'India', 'Summer', '27.9', '1549.4'),\n",
       " ('Mumbai', 'India', 'Fall', '27.6', '346.0'),\n",
       " ('London', 'United Kingdom', 'Winter', '4.2', '207.7'),\n",
       " ('London', 'United Kingdom', 'Spring', '8.3', '169.6'),\n",
       " ('London', 'United Kingdom', 'Summer', '15.7', '157.0'),\n",
       " ('London', 'United Kingdom', 'Fall', '10.4', '218.5'),\n",
       " ('Cairo', 'Egypt', 'Winter', '13.6', '16.5'),\n",
       " ('Cairo', 'Egypt', 'Spring', '20.7', '6.5'),\n",
       " ('Cairo', 'Egypt', 'Summer', '27.7', '0.1'),\n",
       " ('Cairo', 'Egypt', 'Fall', '22.2', '4.5')]"
      ]
     },
     "execution_count": 4,
     "metadata": {},
     "output_type": "execute_result"
    }
   ],
   "source": [
    "%sql SELECT * from DATA"
   ]
  },
  {
   "cell_type": "markdown",
   "metadata": {},
   "source": [
    "#### Write SQL queries on the above database table that return: \n",
    "#### a) All the temperature data."
   ]
  },
  {
   "cell_type": "code",
   "execution_count": 5,
   "metadata": {},
   "outputs": [
    {
     "name": "stdout",
     "output_type": "stream",
     "text": [
      " * sqlite://\n",
      "Done.\n"
     ]
    },
    {
     "data": {
      "text/html": [
       "<table>\n",
       "    <tr>\n",
       "        <th>Temperature_C</th>\n",
       "    </tr>\n",
       "    <tr>\n",
       "        <td>24.8</td>\n",
       "    </tr>\n",
       "    <tr>\n",
       "        <td>28.4</td>\n",
       "    </tr>\n",
       "    <tr>\n",
       "        <td>27.9</td>\n",
       "    </tr>\n",
       "    <tr>\n",
       "        <td>27.6</td>\n",
       "    </tr>\n",
       "    <tr>\n",
       "        <td>4.2</td>\n",
       "    </tr>\n",
       "    <tr>\n",
       "        <td>8.3</td>\n",
       "    </tr>\n",
       "    <tr>\n",
       "        <td>15.7</td>\n",
       "    </tr>\n",
       "    <tr>\n",
       "        <td>10.4</td>\n",
       "    </tr>\n",
       "    <tr>\n",
       "        <td>13.6</td>\n",
       "    </tr>\n",
       "    <tr>\n",
       "        <td>20.7</td>\n",
       "    </tr>\n",
       "    <tr>\n",
       "        <td>27.7</td>\n",
       "    </tr>\n",
       "    <tr>\n",
       "        <td>22.2</td>\n",
       "    </tr>\n",
       "</table>"
      ],
      "text/plain": [
       "[('24.8',),\n",
       " ('28.4',),\n",
       " ('27.9',),\n",
       " ('27.6',),\n",
       " ('4.2',),\n",
       " ('8.3',),\n",
       " ('15.7',),\n",
       " ('10.4',),\n",
       " ('13.6',),\n",
       " ('20.7',),\n",
       " ('27.7',),\n",
       " ('22.2',)]"
      ]
     },
     "execution_count": 5,
     "metadata": {},
     "output_type": "execute_result"
    }
   ],
   "source": [
    "%sql SELECT Temperature_C from DATA"
   ]
  },
  {
   "cell_type": "markdown",
   "metadata": {},
   "source": [
    "#### b) All the cities, but without repetition."
   ]
  },
  {
   "cell_type": "code",
   "execution_count": 6,
   "metadata": {},
   "outputs": [
    {
     "name": "stdout",
     "output_type": "stream",
     "text": [
      " * sqlite://\n",
      "Done.\n"
     ]
    },
    {
     "data": {
      "text/html": [
       "<table>\n",
       "    <tr>\n",
       "        <th>City</th>\n",
       "    </tr>\n",
       "    <tr>\n",
       "        <td>Mumbai</td>\n",
       "    </tr>\n",
       "    <tr>\n",
       "        <td>London</td>\n",
       "    </tr>\n",
       "    <tr>\n",
       "        <td>Cairo</td>\n",
       "    </tr>\n",
       "</table>"
      ],
      "text/plain": [
       "[('Mumbai',), ('London',), ('Cairo',)]"
      ]
     },
     "execution_count": 6,
     "metadata": {},
     "output_type": "execute_result"
    }
   ],
   "source": [
    "%sql SELECT DISTINCT City from DATA"
   ]
  },
  {
   "cell_type": "markdown",
   "metadata": {},
   "source": [
    "#### c) All the records for India.\n"
   ]
  },
  {
   "cell_type": "code",
   "execution_count": 7,
   "metadata": {},
   "outputs": [
    {
     "name": "stdout",
     "output_type": "stream",
     "text": [
      " * sqlite://\n",
      "Done.\n"
     ]
    },
    {
     "data": {
      "text/html": [
       "<table>\n",
       "    <tr>\n",
       "        <th>City</th>\n",
       "        <th>Country</th>\n",
       "        <th>Season</th>\n",
       "        <th>Temperature_C</th>\n",
       "        <th>Rainfall_mm</th>\n",
       "    </tr>\n",
       "    <tr>\n",
       "        <td>Mumbai</td>\n",
       "        <td>India</td>\n",
       "        <td>Winter</td>\n",
       "        <td>24.8</td>\n",
       "        <td>5.9</td>\n",
       "    </tr>\n",
       "    <tr>\n",
       "        <td>Mumbai</td>\n",
       "        <td>India</td>\n",
       "        <td>Spring</td>\n",
       "        <td>28.4</td>\n",
       "        <td>16.2</td>\n",
       "    </tr>\n",
       "    <tr>\n",
       "        <td>Mumbai</td>\n",
       "        <td>India</td>\n",
       "        <td>Summer</td>\n",
       "        <td>27.9</td>\n",
       "        <td>1549.4</td>\n",
       "    </tr>\n",
       "    <tr>\n",
       "        <td>Mumbai</td>\n",
       "        <td>India</td>\n",
       "        <td>Fall</td>\n",
       "        <td>27.6</td>\n",
       "        <td>346.0</td>\n",
       "    </tr>\n",
       "</table>"
      ],
      "text/plain": [
       "[('Mumbai', 'India', 'Winter', '24.8', '5.9'),\n",
       " ('Mumbai', 'India', 'Spring', '28.4', '16.2'),\n",
       " ('Mumbai', 'India', 'Summer', '27.9', '1549.4'),\n",
       " ('Mumbai', 'India', 'Fall', '27.6', '346.0')]"
      ]
     },
     "execution_count": 7,
     "metadata": {},
     "output_type": "execute_result"
    }
   ],
   "source": [
    "%sql SELECT * from DATA WHERE Country='India';"
   ]
  },
  {
   "cell_type": "markdown",
   "metadata": {},
   "source": [
    "#### d) All the Fall records"
   ]
  },
  {
   "cell_type": "code",
   "execution_count": 8,
   "metadata": {},
   "outputs": [
    {
     "name": "stdout",
     "output_type": "stream",
     "text": [
      " * sqlite://\n",
      "Done.\n"
     ]
    },
    {
     "data": {
      "text/html": [
       "<table>\n",
       "    <tr>\n",
       "        <th>City</th>\n",
       "        <th>Country</th>\n",
       "        <th>Season</th>\n",
       "        <th>Temperature_C</th>\n",
       "        <th>Rainfall_mm</th>\n",
       "    </tr>\n",
       "    <tr>\n",
       "        <td>Mumbai</td>\n",
       "        <td>India</td>\n",
       "        <td>Fall</td>\n",
       "        <td>27.6</td>\n",
       "        <td>346.0</td>\n",
       "    </tr>\n",
       "    <tr>\n",
       "        <td>London</td>\n",
       "        <td>United Kingdom</td>\n",
       "        <td>Fall</td>\n",
       "        <td>10.4</td>\n",
       "        <td>218.5</td>\n",
       "    </tr>\n",
       "    <tr>\n",
       "        <td>Cairo</td>\n",
       "        <td>Egypt</td>\n",
       "        <td>Fall</td>\n",
       "        <td>22.2</td>\n",
       "        <td>4.5</td>\n",
       "    </tr>\n",
       "</table>"
      ],
      "text/plain": [
       "[('Mumbai', 'India', 'Fall', '27.6', '346.0'),\n",
       " ('London', 'United Kingdom', 'Fall', '10.4', '218.5'),\n",
       " ('Cairo', 'Egypt', 'Fall', '22.2', '4.5')]"
      ]
     },
     "execution_count": 8,
     "metadata": {},
     "output_type": "execute_result"
    }
   ],
   "source": [
    "%sql SELECT * from DATA WHERE Season='Fall';"
   ]
  },
  {
   "cell_type": "markdown",
   "metadata": {},
   "source": [
    "#### e) The city, country, and season for which the average rainfall is between 200 and 400 millimeters."
   ]
  },
  {
   "cell_type": "code",
   "execution_count": 12,
   "metadata": {},
   "outputs": [
    {
     "name": "stdout",
     "output_type": "stream",
     "text": [
      " * sqlite://\n",
      "Done.\n"
     ]
    },
    {
     "data": {
      "text/html": [
       "<table>\n",
       "    <tr>\n",
       "        <th>City</th>\n",
       "        <th>Country</th>\n",
       "        <th>Season</th>\n",
       "    </tr>\n",
       "    <tr>\n",
       "        <td>Mumbai</td>\n",
       "        <td>India</td>\n",
       "        <td>Fall</td>\n",
       "    </tr>\n",
       "    <tr>\n",
       "        <td>London</td>\n",
       "        <td>United Kingdom</td>\n",
       "        <td>Winter</td>\n",
       "    </tr>\n",
       "    <tr>\n",
       "        <td>London</td>\n",
       "        <td>United Kingdom</td>\n",
       "        <td>Fall</td>\n",
       "    </tr>\n",
       "    <tr>\n",
       "        <td>Cairo</td>\n",
       "        <td>Egypt</td>\n",
       "        <td>Fall</td>\n",
       "    </tr>\n",
       "</table>"
      ],
      "text/plain": [
       "[('Mumbai', 'India', 'Fall'),\n",
       " ('London', 'United Kingdom', 'Winter'),\n",
       " ('London', 'United Kingdom', 'Fall'),\n",
       " ('Cairo', 'Egypt', 'Fall')]"
      ]
     },
     "execution_count": 12,
     "metadata": {},
     "output_type": "execute_result"
    }
   ],
   "source": [
    "%sql SELECT City,Country,Season from DATA WHERE Rainfall_mm BETWEEN '200' AND '400';"
   ]
  },
  {
   "cell_type": "markdown",
   "metadata": {},
   "source": [
    "#### f) The city and country for which the average Fall temperature is above 20 degrees, in increasing temperature order.\n"
   ]
  },
  {
   "cell_type": "code",
   "execution_count": 4,
   "metadata": {},
   "outputs": [
    {
     "name": "stdout",
     "output_type": "stream",
     "text": [
      " * sqlite://\n",
      "Done.\n"
     ]
    },
    {
     "data": {
      "text/html": [
       "<table>\n",
       "    <tr>\n",
       "        <th>City</th>\n",
       "        <th>Country</th>\n",
       "    </tr>\n",
       "    <tr>\n",
       "        <td>Cairo</td>\n",
       "        <td>Egypt</td>\n",
       "    </tr>\n",
       "    <tr>\n",
       "        <td>Mumbai</td>\n",
       "        <td>India</td>\n",
       "    </tr>\n",
       "</table>"
      ],
      "text/plain": [
       "[('Cairo', 'Egypt'), ('Mumbai', 'India')]"
      ]
     },
     "execution_count": 4,
     "metadata": {},
     "output_type": "execute_result"
    }
   ],
   "source": [
    "%sql SELECT City,Country from DATA WHERE Season = 'Fall' AND Temperature > '20' ORDER BY Temperature ASC;"
   ]
  },
  {
   "cell_type": "markdown",
   "metadata": {},
   "source": [
    "#### g) The total annual rainfall for Cairo."
   ]
  },
  {
   "cell_type": "code",
   "execution_count": 20,
   "metadata": {},
   "outputs": [
    {
     "name": "stdout",
     "output_type": "stream",
     "text": [
      " * sqlite://\n",
      "Done.\n"
     ]
    },
    {
     "data": {
      "text/html": [
       "<table>\n",
       "    <tr>\n",
       "        <th>Total(Rainfall_mm)</th>\n",
       "    </tr>\n",
       "    <tr>\n",
       "        <td>27.6</td>\n",
       "    </tr>\n",
       "</table>"
      ],
      "text/plain": [
       "[(27.6,)]"
      ]
     },
     "execution_count": 20,
     "metadata": {},
     "output_type": "execute_result"
    }
   ],
   "source": [
    "%sql SELECT Total(Rainfall_mm) from DATA WHERE City = 'Cairo';"
   ]
  },
  {
   "cell_type": "markdown",
   "metadata": {},
   "source": [
    "#### h) The total rainfall for each season."
   ]
  },
  {
   "cell_type": "code",
   "execution_count": 21,
   "metadata": {},
   "outputs": [
    {
     "name": "stdout",
     "output_type": "stream",
     "text": [
      " * sqlite://\n",
      "Done.\n"
     ]
    },
    {
     "data": {
      "text/html": [
       "<table>\n",
       "    <tr>\n",
       "        <th>Season</th>\n",
       "        <th>Total(Rainfall_mm)</th>\n",
       "    </tr>\n",
       "    <tr>\n",
       "        <td>Fall</td>\n",
       "        <td>569.0</td>\n",
       "    </tr>\n",
       "    <tr>\n",
       "        <td>Spring</td>\n",
       "        <td>192.29999999999998</td>\n",
       "    </tr>\n",
       "    <tr>\n",
       "        <td>Summer</td>\n",
       "        <td>1706.5</td>\n",
       "    </tr>\n",
       "    <tr>\n",
       "        <td>Winter</td>\n",
       "        <td>230.1</td>\n",
       "    </tr>\n",
       "</table>"
      ],
      "text/plain": [
       "[('Fall', 569.0),\n",
       " ('Spring', 192.29999999999998),\n",
       " ('Summer', 1706.5),\n",
       " ('Winter', 230.1)]"
      ]
     },
     "execution_count": 21,
     "metadata": {},
     "output_type": "execute_result"
    }
   ],
   "source": [
    "%sql SELECT Season,Total(Rainfall_mm) from DATA Group By Season;"
   ]
  },
  {
   "cell_type": "markdown",
   "metadata": {},
   "source": [
    "### Question 10"
   ]
  },
  {
   "cell_type": "markdown",
   "metadata": {},
   "source": [
    "#### Suppose list words is defined as follows:\n",
    "#### >>> words = ['The', 'quick', 'brown', 'fox', 'jumps', 'over', 'the', 'lazy', 'dog']\n",
    "#### Write list comprehension expressions that use list words and generate the following lists:"
   ]
  },
  {
   "cell_type": "markdown",
   "metadata": {},
   "source": [
    "#### a) ['THE', 'QUICK', 'BROWN', 'FOX', 'JUMPS', 'OVER', 'THE', 'LAZY', 'DOG']"
   ]
  },
  {
   "cell_type": "code",
   "execution_count": 37,
   "metadata": {},
   "outputs": [
    {
     "name": "stdout",
     "output_type": "stream",
     "text": [
      "['THE', 'QUICK', 'BROWN', 'FOX', 'JUMPS', 'OVER', 'THE', 'LAZY', 'DOG']\n"
     ]
    }
   ],
   "source": [
    "words = ['The', 'quick', 'brown', 'fox', 'jumps', 'over','the', 'lazy', 'dog']\n",
    "wordlist = [w.upper() for w in words]\n",
    "print(wordlist)"
   ]
  },
  {
   "cell_type": "markdown",
   "metadata": {},
   "source": [
    "#### b) ['the', 'quick', 'brown', 'fox', 'jumps', 'over', 'the', 'lazy', 'dog']"
   ]
  },
  {
   "cell_type": "code",
   "execution_count": 38,
   "metadata": {},
   "outputs": [
    {
     "name": "stdout",
     "output_type": "stream",
     "text": [
      "['the', 'quick', 'brown', 'fox', 'jumps', 'over', 'the', 'lazy', 'dog']\n"
     ]
    }
   ],
   "source": [
    "words = ['The', 'quick', 'brown', 'fox', 'jumps', 'over','the', 'lazy', 'dog']\n",
    "wordlist = [w.lower() for w in words]\n",
    "print(wordlist)"
   ]
  },
  {
   "cell_type": "markdown",
   "metadata": {},
   "source": [
    "#### c) [3, 5, 5, 3, 5, 4, 3, 4, 3] (the list of lengths of words in list words)."
   ]
  },
  {
   "cell_type": "code",
   "execution_count": 39,
   "metadata": {},
   "outputs": [
    {
     "name": "stdout",
     "output_type": "stream",
     "text": [
      "[3, 5, 5, 3, 5, 4, 3, 4, 3]\n"
     ]
    }
   ],
   "source": [
    "words = ['The', 'quick', 'brown', 'fox', 'jumps', 'over','the', 'lazy', 'dog']\n",
    "wordlist = [len(w) for w in words]\n",
    "print(wordlist)"
   ]
  },
  {
   "cell_type": "markdown",
   "metadata": {},
   "source": [
    "#### d) [['THE', 'the', 3], ['QUICK', 'quick', 5], ['BROWN', 'brown', 5], ['FOX', 'fox', 3], ['JUMPS', 'jumps', 5], ['OVER', 'over', 4], ['THE', 'the', 3], ['LAZY', 'lazy', 4], ['DOG', 'dog', 3]] (the list containing a list for every word of list words, where each list contains the word in uppercase and lowercase and the length of the word.)"
   ]
  },
  {
   "cell_type": "code",
   "execution_count": 40,
   "metadata": {},
   "outputs": [
    {
     "name": "stdout",
     "output_type": "stream",
     "text": [
      "[['THE', 'the', 3], ['QUICK', 'quick', 5], ['BROWN', 'brown', 5], ['FOX', 'fox', 3], ['JUMPS', 'jumps', 5], ['OVER', 'over', 4], ['THE', 'the', 3], ['LAZY', 'lazy', 4], ['DOG', 'dog', 3]]\n"
     ]
    }
   ],
   "source": [
    "words = ['The', 'quick', 'brown', 'fox', 'jumps', 'over','the', 'lazy', 'dog']\n",
    "wordlist = [[w.upper(), w.lower(), len(w)] for w in words]\n",
    "print(wordlist)"
   ]
  },
  {
   "cell_type": "markdown",
   "metadata": {},
   "source": [
    "#### e) ['The', 'quick', 'brown', 'fox', 'jumps', 'over', 'the', 'lazy', 'dog'] (the list of words in list words containing 4 or more characters)"
   ]
  },
  {
   "cell_type": "code",
   "execution_count": 41,
   "metadata": {},
   "outputs": [
    {
     "name": "stdout",
     "output_type": "stream",
     "text": [
      "['quick', 'brown', 'jumps', 'over', 'lazy']\n"
     ]
    }
   ],
   "source": [
    "words = ['The', 'quick', 'brown', 'fox', 'jumps', 'over','the', 'lazy', 'dog']\n",
    "wordlist = [w for w in words if len(w) > 3]\n",
    "print(wordlist)"
   ]
  }
 ],
 "metadata": {
  "kernelspec": {
   "display_name": "Python 3",
   "language": "python",
   "name": "python3"
  },
  "language_info": {
   "codemirror_mode": {
    "name": "ipython",
    "version": 3
   },
   "file_extension": ".py",
   "mimetype": "text/x-python",
   "name": "python",
   "nbconvert_exporter": "python",
   "pygments_lexer": "ipython3",
   "version": "3.8.3"
  }
 },
 "nbformat": 4,
 "nbformat_minor": 4
}
